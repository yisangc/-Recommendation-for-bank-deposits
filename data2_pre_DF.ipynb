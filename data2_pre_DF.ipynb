{
 "cells": [
  {
   "cell_type": "code",
   "execution_count": null,
   "id": "74558342-802a-4dbc-9467-4c2e0d4da209",
   "metadata": {
    "scrolled": true
   },
   "outputs": [],
   "source": [
    "#该文件为使用DeepFM前的数据预处理文件\r\n",
    "#由于DeepFM是融合DNN和FM模型的模型，所以数据处理有差异"
   ]
  },
  {
   "cell_type": "code",
   "execution_count": null,
   "id": "9bab5f29-905a-42d0-a26d-0a2d6819f03f",
   "metadata": {
    "scrolled": true
   },
   "outputs": [],
   "source": [
    "import pandas as pd\n",
    "import numpy as np\n",
    "from sklearn.preprocessing import LabelEncoder, MinMaxScaler, PolynomialFeatures\n",
    "from tensorflow.keras.layers import Input, Embedding, Dense, Flatten\n",
    "from tensorflow.keras.layers import Activation, concatenate, BatchNormalizatior\n",
    "from tensorflow.keras.models import Model\n"
   ]
  },
  {
   "cell_type": "code",
   "execution_count": null,
   "id": "63d79780-0c87-4c60-9c39-ddb2f23e25ee",
   "metadata": {
    "scrolled": true
   },
   "outputs": [],
   "source": [
    "bank=pd.read_csv('./bank.csv',seq=';')\n",
    "#对原始数据进行初步处理，复制原始数据集\n",
    "bank_data = bank.copy()\n",
    "\n",
    "#将因变量 y 变量转换为0-1型，转换为变量名为deposit_cat，并删除原始变量\n",
    "bank_data['deposit cat']= bank data['y'].map( {'yes':1, 'no':0})\n",
    "bank_data.drop('y',axis=l,inplace =True)\n",
    "\n",
    "#删除 month 和 day 变量\n",
    "bank_data.drop('month', axis=l, inplace=True)\n",
    "bank_data.rop('day', axis=l, inplace=True)\n",
    "\n",
    "#pdays 取值为-1的样本数，用10000替换\n",
    "bank_data.loc[bank data['pdays']==-1,'pdays']= 10000\n",
    "bank_data.info()"
   ]
  },
  {
   "cell_type": "code",
   "execution_count": null,
   "id": "6b94dfbe-e6ff-4750-99d9-48a3d3f1a673",
   "metadata": {
    "scrolled": true
   },
   "outputs": [],
   "source": [
    "#区分为离散型和连续性特征\n",
    "categorical_columns =[\"job\", \"marital\", \"education\"\n",
    "                    \"housing\", \"loan\", \"contact\",\n",
    "                    \"campaign\", \"poutcome\", \"default\"]\n",
    "continuous_columns =[\"age\",\"balance\",\"duration\",\n",
    "                    \"pdays\",\"previous\" ]    "
   ]
  },
  {
   "cell_type": "code",
   "execution_count": null,
   "id": "b7ef9d6a-e7e0-4138-b3ff-5fe3aa092482",
   "metadata": {
    "scrolled": true
   },
   "outputs": [],
   "source": [
    "#对类别特征做0-1处理，编码one_hot\n",
    "wide_data=bank_data.copy()\n",
    "for col in categorical_columns:\n",
    "    onehot_feats=pd.get_dummies(wide_data[col], prefix=col, prefix_sep='.')\n",
    "    wide_data.drop([col], axis=1, inplace = True)\n",
    "    wide_data=pd.concat([wide_data, onehot_feats], axis =1)\n",
    "wide_data.info()"
   ]
  },
  {
   "cell_type": "code",
   "execution_count": null,
   "id": "10261518-78ce-482c-9fce-136cf5fdccec",
   "metadata": {
    "scrolled": true
   },
   "outputs": [],
   "source": []
  }
 ],
 "metadata": {
  "kernelspec": {
   "display_name": "Python 3",
   "language": "python",
   "name": "py35-paddle1.2.0"
  },
  "language_info": {
   "codemirror_mode": {
    "name": "ipython",
    "version": 3
   },
   "file_extension": ".py",
   "mimetype": "text/x-python",
   "name": "python",
   "nbconvert_exporter": "python",
   "pygments_lexer": "ipython3",
   "version": "3.10.10"
  }
 },
 "nbformat": 4,
 "nbformat_minor": 5
}
