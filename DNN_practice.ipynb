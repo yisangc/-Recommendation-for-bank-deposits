{
 "cells": [
  {
   "cell_type": "code",
   "execution_count": null,
   "id": "eee17cf6-afb1-47a9-9756-97166942e6ce",
   "metadata": {
    "scrolled": true
   },
   "outputs": [],
   "source": [
    "#使用 TensorFlow 框架，确认是否安装搭建，并检查所用库\n",
    "#可写成 requirements.txt 来实现批量安装，但不同服务器环境不一致，需要调整，此处不提供"
   ]
  },
  {
   "cell_type": "code",
   "execution_count": null,
   "id": "c2dd9dd1-3336-4392-9c2b-c605cf6dbb7f",
   "metadata": {
    "scrolled": true
   },
   "outputs": [],
   "source": [
    "#使用说明：\n",
    "#运行该文件时，先运行数据清洗文件 data_process"
   ]
  },
  {
   "cell_type": "code",
   "execution_count": 3,
   "id": "aba66316-0c45-4338-8a57-f8b01692c966",
   "metadata": {
    "execution": {
     "iopub.execute_input": "2024-06-04T17:56:38.649572Z",
     "iopub.status.busy": "2024-06-04T17:56:38.649052Z",
     "iopub.status.idle": "2024-06-04T17:56:39.478392Z",
     "shell.execute_reply": "2024-06-04T17:56:39.477308Z",
     "shell.execute_reply.started": "2024-06-04T17:56:38.649542Z"
    },
    "scrolled": true
   },
   "outputs": [],
   "source": [
    "import keras\n",
    "from keras.models import Sequential\n",
    "from keras.layers import Dense, Dropout\n",
    "import numpy as np \n",
    "import matplotlib\n",
    "import matplotlib.pyplot as plt \n",
    "from mpl_toolkits.mplot3d import Axes3D\n",
    "from sklearn.metrics import classification_report, confusion_matrix"
   ]
  },
  {
   "cell_type": "code",
   "execution_count": null,
   "id": "ed88d1d4-c729-4055-ba9b-234cdf1bc8e0",
   "metadata": {
    "scrolled": true
   },
   "outputs": [],
   "source": [
    "print(X_train.shape)\r\n",
    "print(y_train.shape)\r\n",
    "print(X_test.shape)\r\n",
    "print(y_test.shape)"
   ]
  },
  {
   "cell_type": "code",
   "execution_count": null,
   "id": "292cde19-6c43-48ff-8527-6bd3d3f1f1ab",
   "metadata": {
    "scrolled": true
   },
   "outputs": [],
   "source": [
    "#创建模型，并设置神经网络的层数\r\n",
    "model = Sequential()\r\n",
    "model.add(Dense(units = 100, activation = 'relu', input_dim=34))\r\n",
    "model.add(Dense(units = 50, activation = 'relu'))\r\n",
    "model.add(Dense(units = 30, activation = 'relu'))\r\n",
    "model.add(Dense(units = 1, activation = 'sigmoid'))\r\n",
    "\r\n",
    "model.compile(loss='binary_crossentropy',optimizer=keras.optimizer.Adagrad(lr=0.01),metrics=['accuracy'])\r\n",
    "\r\n",
    "#模型训练\r\n",
    "history = model.fit(X_train,y_train,validation_data=(X_test,y_test),epochs=1000,batch_size=10)"
   ]
  },
  {
   "cell_type": "code",
   "execution_count": null,
   "id": "1eea7ed5-cef5-410f-bb2b-6656c8f0f20e",
   "metadata": {
    "scrolled": true
   },
   "outputs": [],
   "source": [
    "plt.plot(history.history['accuracy'],linestyle='--')\r\n",
    "plt.plot(history.history['val_accuracy'])\r\n",
    "plt.title('Model accuracy')\r\n",
    "plt.ylabel('Accuracy')\r\n",
    "plt.xlabel('Epoch')\r\n",
    "plt.legend(['Train','Valid'], loc='lower right')\r\n",
    "plt.show()"
   ]
  },
  {
   "cell_type": "code",
   "execution_count": null,
   "id": "6f19d55a-9e82-44ae-bb08-e31ccd23d229",
   "metadata": {
    "scrolled": true
   },
   "outputs": [],
   "source": [
    "plt.plot(history.history['loss'],linestyle='--')\r\n",
    "plt.plot(history.history['val_loss'])\r\n",
    "plt.title('Model loss')\r\n",
    "plt.ylabel('Loss')\r\n",
    "plt.xlabel('Epoch')\r\n",
    "plt.legend(['Train','Valid'], loc='upper right')\r\n",
    "plt.show()"
   ]
  },
  {
   "cell_type": "code",
   "execution_count": null,
   "id": "babd5dfd-3f15-4b05-b390-694bfac9c144",
   "metadata": {
    "scrolled": true
   },
   "outputs": [],
   "source": []
  }
 ],
 "metadata": {
  "kernelspec": {
   "display_name": "Python 3",
   "language": "python",
   "name": "py35-paddle1.2.0"
  },
  "language_info": {
   "codemirror_mode": {
    "name": "ipython",
    "version": 3
   },
   "file_extension": ".py",
   "mimetype": "text/x-python",
   "name": "python",
   "nbconvert_exporter": "python",
   "pygments_lexer": "ipython3",
   "version": "3.10.10"
  }
 },
 "nbformat": 4,
 "nbformat_minor": 5
}
