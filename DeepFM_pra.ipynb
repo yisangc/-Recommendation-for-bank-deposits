{
 "cells": [
  {
   "cell_type": "code",
   "execution_count": null,
   "id": "e0b751a1-93d2-4a2b-ab3b-5533aa54dae6",
   "metadata": {
    "scrolled": true
   },
   "outputs": [],
   "source": [
    "#运行该文件前，请先运行预处理文件data2_pre_DF文件"
   ]
  },
  {
   "cell_type": "code",
   "execution_count": null,
   "id": "ad031683-bf9b-4deb-9a2f-6d63800ad6c5",
   "metadata": {
    "scrolled": true
   },
   "outputs": [],
   "source": [
    "import numpy as np\r\n",
    "import pandas as pd\r\n",
    "from tensorflow.keras.layers import *\r\n",
    "import tensorflow.keras.backend as K\r\n",
    "import matplotlib.pyplot as plt\r\n",
    "import tensorflow as tf\r\n",
    "from tensorflow.keras.models import Model \r\n",
    "from tensorflow.keras.utils import plot_model\r\n",
    "from sklearn.preprocessing import LabelEncoder\r\n",
    "%matplotlib inline"
   ]
  },
  {
   "cell_type": "code",
   "execution_count": null,
   "id": "ad740db5-848a-49ca-afe3-535075d8b307",
   "metadata": {
    "scrolled": true
   },
   "outputs": [],
   "source": [
    "#数据处理\r\n",
    "data = wide_data.copy()\r\n",
    "sparse_feats = ['job.admin.','job.blue-collar', 'job.entrepreneur','job.housemaid',\r\n",
    "            'job.management','job,retired','job.self-employed','job.services',\r\n",
    "            'job.student','job.technician','job.unemployed','job.unknown',\r\n",
    "            'marital.divorced','marital.married','marital.single',\r\n",
    "            'education.primary','education.secondary','education.tertiary',\r\n",
    "            'education.unknown','housing.no','housing.yes','loan.no','loan,yes',\r\n",
    "            'contact.cellular','contact.telephone','contact.unknown','campaign.1',\r\n",
    "            'campaign.2','campaign.3','campaign.4','campaign.5',\r\n",
    "            'campaign.6','campaign.7','campaign.8','campaign.9','campaign.10',\r\n",
    "            'campaign.11','campaign.12','campaign.13',\r\n",
    "            'campaign.14','campaign 15','campaign.16','campaign.17','campaign 18',\r\n",
    "            'campaign.19','campaign.20','campaign.21','campaign.22','campaign.23',\r\n",
    "            'campaign.24','campaign.25','campaign.26''campaign.27','campaign.28',\r\n",
    "            'campaign.29','campaign.30''campaign.31','campaign.32','campaign.33',\r\n",
    "            'campaign.41','campaign.43','campaign.63','poutcome.failure','poutcome.other',\r\n",
    "            'poutcome.success','poutcome.unknown','default.no','default.yes']\r\n",
    "\r\n",
    "dense_feats =[\"age\",\"balance\", \"duration\", \"pdays\", \"previous\"]\r\n",
    "\r\n",
    "def process_dense_feats(data, feats):\r\n",
    "    d= data.copy()\r\n",
    "    d=d[feats].fillna(0.0)\r\n",
    "    for f in feats:\r\n",
    "        d[f]=d[f].apply(lambda x: np.log(x+1) if x>-1 else -1)\r\n",
    "    return d\r\n",
    "\r\n",
    "data_dense=process_dense_feats(data, dense_feats)\r\n",
    "\r\n",
    "def process_sparse_feats(data, feats):\r\n",
    "    d = data.copy()\r\n",
    "    d = d[feats].fillna(\"-1\")\r\n",
    "    for f in feats:\r\n",
    "        label_encoder = LabelEncoder()\r\n",
    "        d[f]= label_encoder.fit transform(d[f])\r\n",
    "    return d\r\n",
    "\r\n",
    "data_sparse = process_sparse_feats(data, sparse_feats)"
   ]
  },
  {
   "cell_type": "code",
   "execution_count": null,
   "id": "87e635d4-7f6a-42b5-bc5b-f0d8790a32aa",
   "metadata": {
    "scrolled": true
   },
   "outputs": [],
   "source": [
    "total_data = pd.concat([data_dense, data_sparse], axis = 1)\r\n",
    "total_data['label'] = data['Label']"
   ]
  },
  {
   "cell_type": "code",
   "execution_count": null,
   "id": "c48a5b92-20ab-4cab-acfc-bb040b77b503",
   "metadata": {
    "scrolled": true
   },
   "outputs": [],
   "source": [
    "#构造 dense 特征的输入\r\n",
    "dense_inputs = []\r\n",
    "for f in dense feats:\r\n",
    "    _input =Input([l],name=f)\r\n",
    "    dense_inputs.append(_input)\r\n",
    "\r\n",
    "#将输入拼接到一起，方便连接Dense层\r\n",
    "concat_dense_inputs = Concatenate(axis=l)(dense_inputs)\r\n",
    "\r\n",
    "#然后连上输出为1个单元的全连接层，表示对dense变量的加权求和\r\n",
    "fst_order_dense_layer = Dense(l)(concat_dense_inputs)\r\n",
    "\r\n",
    "#单独对每一个 sparse 特征构造输入，目的是方便后面构造二阶组合特征\r\n",
    "sparse_inputs =[]\r\n",
    "for f in sparse_feats:\r\n",
    "    _input =Input([l],name=f)\r\n",
    "    sparse_inputs.append(_input)\r\n",
    "\r\n",
    "sparse_ld_embed =[]\r\n",
    "for i,_input in enumerate(sparse_inputs):\r\n",
    "    f = sparse_feats[i] \r\n",
    "    voc_size = total data[f].nunique()\r\n",
    "    #使用12正则化防止过拟合\r\n",
    "    reg = tf.keras.regularizers.12(0.5)\r\n",
    "    _embed = Embedding(voc_size, 1, embeddings_regularizer=reg)(_input)\r\n",
    "    #由于Embedding 的结果是二维的\r\n",
    "    #因此如果需要在Embedding 之后加入 Dense 层，则需要先连接上 Flatten 层\r\n",
    "    _embed = Flatten()(_embed)\r\n",
    "    sparse_ld_embed.append(_embed)\r\n",
    "#sparse特征加权求和\r\n",
    "fst_order_sparse_layer = Add()(sparse_ld_embed)\r\n",
    "#合并 Linear 部分\r\n",
    "linear_part = Add()([fst_order_dense_layer, fst_order_sparse_layer])"
   ]
  },
  {
   "cell_type": "code",
   "execution_count": null,
   "id": "76412e74-01f5-49d1-a44a-f047c854e92e",
   "metadata": {
    "scrolled": true
   },
   "outputs": [],
   "source": [
    "#二阶特征\r\n",
    "#embedding size\r\n",
    "k = 8\r\n",
    "#这里考虑 sparse 的二阶交叉\r\n",
    "sparse_kd_embed = []\r\n",
    "for i,_input in enumerate(sparse_inputs):\r\n",
    "    f = sparse_feats[i]\r\n",
    "    voc_size = total_data[f].nunique()\r\n",
    "    reg = tf.keras.regularizers.12(0.7)\r\n",
    "    _embed = Embedding(voc_size, k, embeddings_regularizer=reg) (_input)\r\n",
    "    sparse_kd_embed.append(_embed)\r\n",
    "sparse_kd_embed"
   ]
  },
  {
   "cell_type": "code",
   "execution_count": null,
   "id": "125c9bb4-9886-4806-b455-d46bd5abfbc8",
   "metadata": {
    "scrolled": true
   },
   "outputs": [],
   "source": [
    "#sparse的embedding拼接，FM的特征组合公式计算\r\n",
    "concat_sparse_kd_embed = Concatenate(axis=1)(sparse_kd_embed)\r\n",
    "sum_kd_embed = Lambda(lambda x: K.sum(x, axis=1))(concat_sparse_kd_embed)\r\n",
    "square_sum_kd_embed = Multiply() ([sum_kd_embed, sum_kd_embed])\r\n",
    "square_kd_embed = Multiply()([concat_sparse_kd_embed, concat_sparse_kd_embed])\r\n",
    "sum_square_kd_embed = Lambda(lambda x: K.sum(x, axis=1))(square_kd_embed)\r\n",
    "sub= Subtract()([square_sum_kd_embed, sum_square_kd_embed])\r\n",
    "sub = Lambda(lambda x: x*0.5)(sub)\r\n",
    "snd_order_sparse_layer = Lambda(lambda x: K.sum(x, axis=1, keepdims=True))(sub)"
   ]
  },
  {
   "cell_type": "code",
   "execution_count": null,
   "id": "abafb581-9865-4493-b399-4489c85ea49b",
   "metadata": {
    "scrolled": true
   },
   "outputs": [],
   "source": [
    "#DNN部分的构建，以及模型参数设置\r\n",
    "flatten_sparse_embed = Flatten()(concat_sparse_kd_embed)\r\n",
    "fc_layer = Dropout(0.5)(Dense(256,activation_'relu')(flatten_sparse_embed))#256\r\n",
    "fc_layer = Dropout(0.3)(Dense(128,activation='relu')(fc_layer))#128\r\n",
    "fc_layer= Dropout(0.1)(Dense(64,activation='relu')(fc_layer))# 64\r\n",
    "fc_layer_output =Dense(1)(fc_layer)#输出结果\r\n",
    "output_layer = Add()([linear_part, snd_order_sparse_layer, fc_layer_output])\r\n",
    "output_layer = Activation(\"sigmoid\")(output_layer)\r\n",
    "model = Model(dense_inputs+sparse_inputs, output_layer)\r\n",
    "model.compile(optimizer=\"adam\",loss=\"binary_crossentropy\",metrics=[\"binary_crossentropy\", tf.keras.metrics.AUC(name='auc')])"
   ]
  },
  {
   "cell_type": "code",
   "execution_count": null,
   "id": "37b73c6b-8ef2-43b9-abf4-5122e291dcff",
   "metadata": {
    "scrolled": true
   },
   "outputs": [],
   "source": [
    "#训练与评估\r\n",
    "train_data = total_data\r\n",
    "train_dense_x = [train_data[f].values for f in dense_feats]\r\n",
    "train_sparse_x = [train_data[f].values for f in sparse_feats]\r\n",
    "train_label = [train_data['label'].values]\r\n",
    "model.fit(train_dense_x+train_sparse_x, train_label, epochs=100, batch_size=256, validation_data=(train_dense_x+train_sparse_x,train_label))\r\n",
    "test_loss, test_val_binary_crossentropy, test_accuracy = model.evaluate(train_dense_x+train_sparse_x, train_label)\r\n",
    "print(\"Test accuracy:{)\".format(test_accuracy))"
   ]
  }
 ],
 "metadata": {
  "kernelspec": {
   "display_name": "Python 3",
   "language": "python",
   "name": "py35-paddle1.2.0"
  },
  "language_info": {
   "codemirror_mode": {
    "name": "ipython",
    "version": 3
   },
   "file_extension": ".py",
   "mimetype": "text/x-python",
   "name": "python",
   "nbconvert_exporter": "python",
   "pygments_lexer": "ipython3",
   "version": "3.10.10"
  }
 },
 "nbformat": 4,
 "nbformat_minor": 5
}
